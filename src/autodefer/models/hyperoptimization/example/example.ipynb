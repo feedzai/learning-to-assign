{
 "cells": [
  {
   "cell_type": "code",
   "execution_count": 1,
   "metadata": {},
   "outputs": [
    {
     "name": "stderr",
     "output_type": "stream",
     "text": [
      "c:\\Users\\diogo\\AppData\\Local\\Programs\\Python\\Python310\\lib\\site-packages\\tqdm\\auto.py:22: TqdmWarning: IProgress not found. Please update jupyter and ipywidgets. See https://ipywidgets.readthedocs.io/en/stable/user_install.html\n",
      "  from .autonotebook import tqdm as notebook_tqdm\n"
     ]
    }
   ],
   "source": [
    "from functools import partial\n",
    "\n",
    "from sklearn.datasets import make_classification\n",
    "from sklearn.model_selection import train_test_split\n",
    "\n",
    "from ..tuner import  OptunaTuner\n",
    "from evaluation import calc_tpr_at_fpr"
   ]
  },
  {
   "cell_type": "code",
   "execution_count": 2,
   "metadata": {},
   "outputs": [],
   "source": [
    "SEED = 42\n",
    "TARGET_FPR = 0.05\n",
    "N_TRIALS = 30"
   ]
  },
  {
   "cell_type": "code",
   "execution_count": 3,
   "metadata": {},
   "outputs": [],
   "source": [
    "X, y = make_classification(\n",
    "    n_samples=10_000, n_features=50, n_informative=40,\n",
    "    n_classes=2, weights=[0.99, 0.01], flip_y=0.005, random_state=SEED,\n",
    ")\n",
    "X_train, X_test, y_train, y_test = train_test_split(X, y, test_size=0.25, shuffle=False)\n",
    "X_train, X_val, y_train, y_val = train_test_split(X_train, y_train, test_size=0.25, shuffle=False)"
   ]
  },
  {
   "cell_type": "code",
   "execution_count": 4,
   "metadata": {},
   "outputs": [
    {
     "name": "stderr",
     "output_type": "stream",
     "text": [
      "\u001B[32m[I 2022-08-29 19:12:17,278]\u001B[0m A new study created in memory with name: no-name-4ae6b6f4-7ff8-48e3-a3e4-aac1d5e3fe37\u001B[0m\n",
      "\u001B[32m[I 2022-08-29 19:12:19,440]\u001B[0m Trial 0 finished with value: 0.3793103448275862 and parameters: {'learner_type': 'RF', 'learner_RF_n_estimators': 763, 'learner_RF_max_depth': 19, 'learner_RF_criterion': 'gini', 'learner_RF_min_samples_split': 2, 'learner_RF_min_samples_leaf': 57, 'learner_RF_max_features': 'log2'}. Best is trial 0 with value: 0.3793103448275862.\u001B[0m\n",
      "\u001B[32m[I 2022-08-29 19:12:26,145]\u001B[0m Trial 1 finished with value: 0.5517241379310345 and parameters: {'learner_type': 'RF', 'learner_RF_n_estimators': 1544, 'learner_RF_max_depth': 8, 'learner_RF_criterion': 'entropy', 'learner_RF_min_samples_split': 6, 'learner_RF_min_samples_leaf': 14, 'learner_RF_max_features': 'sqrt'}. Best is trial 1 with value: 0.5517241379310345.\u001B[0m\n",
      "\u001B[32m[I 2022-08-29 19:12:26,269]\u001B[0m Trial 2 finished with value: 0.3793103448275862 and parameters: {'learner_type': 'LGBM', 'learner_LGBM_boosting_type': 'gbdt', 'learner_LGBM_enable_bundle': False, 'learner_LGBM_n_estimators': 124, 'learner_LGBM_num_leaves': 104, 'learner_LGBM_min_child_samples': 73, 'learner_LGBM_max_depth': 2, 'learner_LGBM_learning_rate': 0.10769622478263129, 'learner_LGBM_reg_alpha': 0.00032476735706274504, 'learner_LGBM_reg_lambda': 0.00015673095467235422}. Best is trial 1 with value: 0.5517241379310345.\u001B[0m\n",
      "\u001B[32m[I 2022-08-29 19:12:32,757]\u001B[0m Trial 3 finished with value: 0.5517241379310345 and parameters: {'learner_type': 'RF', 'learner_RF_n_estimators': 1304, 'learner_RF_max_depth': 9, 'learner_RF_criterion': 'entropy', 'learner_RF_min_samples_split': 10, 'learner_RF_min_samples_leaf': 3, 'learner_RF_max_features': 'sqrt'}. Best is trial 1 with value: 0.5517241379310345.\u001B[0m\n",
      "\u001B[32m[I 2022-08-29 19:12:33,003]\u001B[0m Trial 4 finished with value: 0.5172413793103449 and parameters: {'learner_type': 'LGBM', 'learner_LGBM_boosting_type': 'goss', 'learner_LGBM_enable_bundle': False, 'learner_LGBM_n_estimators': 116, 'learner_LGBM_num_leaves': 868, 'learner_LGBM_min_child_samples': 173, 'learner_LGBM_max_depth': 19, 'learner_LGBM_learning_rate': 0.33134836155089487, 'learner_LGBM_reg_alpha': 0.00621870472776908, 'learner_LGBM_reg_lambda': 0.058293845429947415}. Best is trial 1 with value: 0.5517241379310345.\u001B[0m\n",
      "\u001B[32m[I 2022-08-29 19:12:33,063]\u001B[0m Trial 5 finished with value: 0.2413793103448276 and parameters: {'learner_type': 'RF', 'learner_RF_n_estimators': 6, 'learner_RF_max_depth': 10, 'learner_RF_criterion': 'gini', 'learner_RF_min_samples_split': 57, 'learner_RF_min_samples_leaf': 7, 'learner_RF_max_features': 'log2'}. Best is trial 1 with value: 0.5517241379310345.\u001B[0m\n",
      "\u001B[32m[I 2022-08-29 19:12:33,127]\u001B[0m Trial 6 finished with value: 0.0 and parameters: {'learner_type': 'RF', 'learner_RF_n_estimators': 8, 'learner_RF_max_depth': 49, 'learner_RF_criterion': 'gini', 'learner_RF_min_samples_split': 2, 'learner_RF_min_samples_leaf': 46, 'learner_RF_max_features': 'log2'}. Best is trial 1 with value: 0.5517241379310345.\u001B[0m\n",
      "\u001B[32m[I 2022-08-29 19:12:33,575]\u001B[0m Trial 7 finished with value: 0.5862068965517241 and parameters: {'learner_type': 'LGBM', 'learner_LGBM_boosting_type': 'goss', 'learner_LGBM_enable_bundle': True, 'learner_LGBM_n_estimators': 228, 'learner_LGBM_num_leaves': 13, 'learner_LGBM_min_child_samples': 19, 'learner_LGBM_max_depth': 8, 'learner_LGBM_learning_rate': 0.17361170890393302, 'learner_LGBM_reg_alpha': 0.008178476574339543, 'learner_LGBM_reg_lambda': 0.04588156549160976}. Best is trial 7 with value: 0.5862068965517241.\u001B[0m\n",
      "\u001B[32m[I 2022-08-29 19:12:33,896]\u001B[0m Trial 8 finished with value: 0.4482758620689655 and parameters: {'learner_type': 'LGBM', 'learner_LGBM_boosting_type': 'gbdt', 'learner_LGBM_enable_bundle': False, 'learner_LGBM_n_estimators': 483, 'learner_LGBM_num_leaves': 108, 'learner_LGBM_min_child_samples': 34, 'learner_LGBM_max_depth': 2, 'learner_LGBM_learning_rate': 0.015251209898002927, 'learner_LGBM_reg_alpha': 0.000124247470836602, 'learner_LGBM_reg_lambda': 0.008113929572637844}. Best is trial 7 with value: 0.5862068965517241.\u001B[0m\n",
      "\u001B[32m[I 2022-08-29 19:12:46,650]\u001B[0m Trial 9 finished with value: 0.5517241379310345 and parameters: {'learner_type': 'RF', 'learner_RF_n_estimators': 2615, 'learner_RF_max_depth': 8, 'learner_RF_criterion': 'entropy', 'learner_RF_min_samples_split': 4, 'learner_RF_min_samples_leaf': 2, 'learner_RF_max_features': 'sqrt'}. Best is trial 7 with value: 0.5862068965517241.\u001B[0m\n",
      "\u001B[32m[I 2022-08-29 19:12:48,341]\u001B[0m Trial 10 finished with value: 0.13793103448275862 and parameters: {'learner_type': 'LGBM', 'learner_LGBM_boosting_type': 'goss', 'learner_LGBM_enable_bundle': True, 'learner_LGBM_n_estimators': 3658, 'learner_LGBM_num_leaves': 10, 'learner_LGBM_min_child_samples': 5, 'learner_LGBM_max_depth': 10, 'learner_LGBM_learning_rate': 0.4383139741983668, 'learner_LGBM_reg_alpha': 0.06932432173673805, 'learner_LGBM_reg_lambda': 0.09486106505184129}. Best is trial 7 with value: 0.5862068965517241.\u001B[0m\n",
      "\u001B[32m[I 2022-08-29 19:12:49,288]\u001B[0m Trial 11 finished with value: 0.5517241379310345 and parameters: {'learner_type': 'LGBM', 'learner_LGBM_boosting_type': 'goss', 'learner_LGBM_enable_bundle': True, 'learner_LGBM_n_estimators': 709, 'learner_LGBM_num_leaves': 11, 'learner_LGBM_min_child_samples': 12, 'learner_LGBM_max_depth': 10, 'learner_LGBM_learning_rate': 0.07129589635981293, 'learner_LGBM_reg_alpha': 0.008864497033095192, 'learner_LGBM_reg_lambda': 0.00382169723213752}. Best is trial 7 with value: 0.5862068965517241.\u001B[0m\n",
      "\u001B[32m[I 2022-08-29 19:12:49,954]\u001B[0m Trial 12 finished with value: 0.4827586206896552 and parameters: {'learner_type': 'RF', 'learner_RF_n_estimators': 157, 'learner_RF_max_depth': 5, 'learner_RF_criterion': 'entropy', 'learner_RF_min_samples_split': 32, 'learner_RF_min_samples_leaf': 20, 'learner_RF_max_features': 'sqrt'}. Best is trial 7 with value: 0.5862068965517241.\u001B[0m\n",
      "\u001B[32m[I 2022-08-29 19:12:50,246]\u001B[0m Trial 13 finished with value: 0.3103448275862069 and parameters: {'learner_type': 'LGBM', 'learner_LGBM_boosting_type': 'goss', 'learner_LGBM_enable_bundle': True, 'learner_LGBM_n_estimators': 51, 'learner_LGBM_num_leaves': 35, 'learner_LGBM_min_child_samples': 22, 'learner_LGBM_max_depth': 15, 'learner_LGBM_learning_rate': 0.02332162582727579, 'learner_LGBM_reg_alpha': 0.001461739193278882, 'learner_LGBM_reg_lambda': 0.0002968660430757737}. Best is trial 7 with value: 0.5862068965517241.\u001B[0m\n",
      "\u001B[32m[I 2022-08-29 19:12:50,762]\u001B[0m Trial 14 finished with value: 0.3103448275862069 and parameters: {'learner_type': 'LGBM', 'learner_LGBM_boosting_type': 'goss', 'learner_LGBM_enable_bundle': True, 'learner_LGBM_n_estimators': 681, 'learner_LGBM_num_leaves': 450, 'learner_LGBM_min_child_samples': 380, 'learner_LGBM_max_depth': 7, 'learner_LGBM_learning_rate': 0.15763402633808807, 'learner_LGBM_reg_alpha': 0.05375878950106165, 'learner_LGBM_reg_lambda': 0.017104319923209564}. Best is trial 7 with value: 0.5862068965517241.\u001B[0m\n",
      "\u001B[32m[I 2022-08-29 19:12:51,738]\u001B[0m Trial 15 finished with value: 0.4482758620689655 and parameters: {'learner_type': 'RF', 'learner_RF_n_estimators': 187, 'learner_RF_max_depth': 21, 'learner_RF_criterion': 'entropy', 'learner_RF_min_samples_split': 11, 'learner_RF_min_samples_leaf': 9, 'learner_RF_max_features': 'sqrt'}. Best is trial 7 with value: 0.5862068965517241.\u001B[0m\n",
      "\u001B[32m[I 2022-08-29 19:12:51,928]\u001B[0m Trial 16 finished with value: 0.20689655172413793 and parameters: {'learner_type': 'RF', 'learner_RF_n_estimators': 31, 'learner_RF_max_depth': 5, 'learner_RF_criterion': 'entropy', 'learner_RF_min_samples_split': 6, 'learner_RF_min_samples_leaf': 18, 'learner_RF_max_features': 'sqrt'}. Best is trial 7 with value: 0.5862068965517241.\u001B[0m\n",
      "\u001B[32m[I 2022-08-29 19:12:54,615]\u001B[0m Trial 17 finished with value: 0.4827586206896552 and parameters: {'learner_type': 'LGBM', 'learner_LGBM_boosting_type': 'gbdt', 'learner_LGBM_enable_bundle': True, 'learner_LGBM_n_estimators': 2752, 'learner_LGBM_num_leaves': 38, 'learner_LGBM_min_child_samples': 7, 'learner_LGBM_max_depth': 15, 'learner_LGBM_learning_rate': 0.03600780807511008, 'learner_LGBM_reg_alpha': 0.0019205081363609503, 'learner_LGBM_reg_lambda': 0.0009874928393918377}. Best is trial 7 with value: 0.5862068965517241.\u001B[0m\n",
      "\u001B[32m[I 2022-08-29 19:13:21,332]\u001B[0m Trial 18 finished with value: 0.5517241379310345 and parameters: {'learner_type': 'RF', 'learner_RF_n_estimators': 4938, 'learner_RF_max_depth': 31, 'learner_RF_criterion': 'entropy', 'learner_RF_min_samples_split': 22, 'learner_RF_min_samples_leaf': 4, 'learner_RF_max_features': 'sqrt'}. Best is trial 7 with value: 0.5862068965517241.\u001B[0m\n",
      "\u001B[32m[I 2022-08-29 19:13:21,798]\u001B[0m Trial 19 finished with value: 0.4482758620689655 and parameters: {'learner_type': 'LGBM', 'learner_LGBM_boosting_type': 'goss', 'learner_LGBM_enable_bundle': True, 'learner_LGBM_n_estimators': 312, 'learner_LGBM_num_leaves': 29, 'learner_LGBM_min_child_samples': 92, 'learner_LGBM_max_depth': 6, 'learner_LGBM_learning_rate': 0.1978277553306964, 'learner_LGBM_reg_alpha': 0.016683641893765193, 'learner_LGBM_reg_lambda': 0.025470063969556773}. Best is trial 7 with value: 0.5862068965517241.\u001B[0m\n",
      "\u001B[32m[I 2022-08-29 19:13:39,389]\u001B[0m Trial 20 finished with value: 0.3793103448275862 and parameters: {'learner_type': 'RF', 'learner_RF_n_estimators': 4013, 'learner_RF_max_depth': 13, 'learner_RF_criterion': 'gini', 'learner_RF_min_samples_split': 119, 'learner_RF_min_samples_leaf': 2, 'learner_RF_max_features': 'log2'}. Best is trial 7 with value: 0.5862068965517241.\u001B[0m\n",
      "\u001B[32m[I 2022-08-29 19:13:42,757]\u001B[0m Trial 21 finished with value: 0.5172413793103449 and parameters: {'learner_type': 'RF', 'learner_RF_n_estimators': 602, 'learner_RF_max_depth': 36, 'learner_RF_criterion': 'entropy', 'learner_RF_min_samples_split': 24, 'learner_RF_min_samples_leaf': 5, 'learner_RF_max_features': 'sqrt'}. Best is trial 7 with value: 0.5862068965517241.\u001B[0m\n",
      "\u001B[32m[I 2022-08-29 19:13:46,678]\u001B[0m Trial 22 finished with value: 0.4827586206896552 and parameters: {'learner_type': 'RF', 'learner_RF_n_estimators': 778, 'learner_RF_max_depth': 8, 'learner_RF_criterion': 'entropy', 'learner_RF_min_samples_split': 8, 'learner_RF_min_samples_leaf': 16, 'learner_RF_max_features': 'sqrt'}. Best is trial 7 with value: 0.5862068965517241.\u001B[0m\n",
      "\u001B[32m[I 2022-08-29 19:13:47,868]\u001B[0m Trial 23 finished with value: 0.5172413793103449 and parameters: {'learner_type': 'LGBM', 'learner_LGBM_boosting_type': 'goss', 'learner_LGBM_enable_bundle': True, 'learner_LGBM_n_estimators': 1141, 'learner_LGBM_num_leaves': 11, 'learner_LGBM_min_child_samples': 14, 'learner_LGBM_max_depth': 10, 'learner_LGBM_learning_rate': 0.06319148201869336, 'learner_LGBM_reg_alpha': 0.009662047072063825, 'learner_LGBM_reg_lambda': 0.002710271956758184}. Best is trial 7 with value: 0.5862068965517241.\u001B[0m\n",
      "\u001B[32m[I 2022-08-29 19:13:48,573]\u001B[0m Trial 24 finished with value: 0.4482758620689655 and parameters: {'learner_type': 'LGBM', 'learner_LGBM_boosting_type': 'goss', 'learner_LGBM_enable_bundle': True, 'learner_LGBM_n_estimators': 236, 'learner_LGBM_num_leaves': 19, 'learner_LGBM_min_child_samples': 19, 'learner_LGBM_max_depth': 7, 'learner_LGBM_learning_rate': 0.06293343814835549, 'learner_LGBM_reg_alpha': 0.02169410416766813, 'learner_LGBM_reg_lambda': 0.003783145672979047}. Best is trial 7 with value: 0.5862068965517241.\u001B[0m\n",
      "\u001B[32m[I 2022-08-29 19:13:55,717]\u001B[0m Trial 25 finished with value: 0.4827586206896552 and parameters: {'learner_type': 'RF', 'learner_RF_n_estimators': 1470, 'learner_RF_max_depth': 7, 'learner_RF_criterion': 'entropy', 'learner_RF_min_samples_split': 4, 'learner_RF_min_samples_leaf': 33, 'learner_RF_max_features': 'sqrt'}. Best is trial 7 with value: 0.5862068965517241.\u001B[0m\n",
      "\u001B[32m[I 2022-08-29 19:13:57,508]\u001B[0m Trial 26 finished with value: 0.5517241379310345 and parameters: {'learner_type': 'RF', 'learner_RF_n_estimators': 322, 'learner_RF_max_depth': 14, 'learner_RF_criterion': 'entropy', 'learner_RF_min_samples_split': 13, 'learner_RF_min_samples_leaf': 4, 'learner_RF_max_features': 'sqrt'}. Best is trial 7 with value: 0.5862068965517241.\u001B[0m\n",
      "\u001B[32m[I 2022-08-29 19:13:58,593]\u001B[0m Trial 27 finished with value: 0.4482758620689655 and parameters: {'learner_type': 'LGBM', 'learner_LGBM_boosting_type': 'goss', 'learner_LGBM_enable_bundle': True, 'learner_LGBM_n_estimators': 1387, 'learner_LGBM_num_leaves': 52, 'learner_LGBM_min_child_samples': 9, 'learner_LGBM_max_depth': 13, 'learner_LGBM_learning_rate': 0.12394775609134462, 'learner_LGBM_reg_alpha': 0.004258720310609725, 'learner_LGBM_reg_lambda': 0.001003715578370227}. Best is trial 7 with value: 0.5862068965517241.\u001B[0m\n",
      "\u001B[32m[I 2022-08-29 19:13:58,868]\u001B[0m Trial 28 finished with value: 0.3103448275862069 and parameters: {'learner_type': 'RF', 'learner_RF_n_estimators': 45, 'learner_RF_max_depth': 6, 'learner_RF_criterion': 'entropy', 'learner_RF_min_samples_split': 4, 'learner_RF_min_samples_leaf': 10, 'learner_RF_max_features': 'sqrt'}. Best is trial 7 with value: 0.5862068965517241.\u001B[0m\n",
      "\u001B[32m[I 2022-08-29 19:14:05,324]\u001B[0m Trial 29 finished with value: 0.3103448275862069 and parameters: {'learner_type': 'RF', 'learner_RF_n_estimators': 1519, 'learner_RF_max_depth': 11, 'learner_RF_criterion': 'entropy', 'learner_RF_min_samples_split': 8, 'learner_RF_min_samples_leaf': 80, 'learner_RF_max_features': 'sqrt'}. Best is trial 7 with value: 0.5862068965517241.\u001B[0m\n"
     ]
    }
   ],
   "source": [
    "tuner = OptunaTuner(task='binary')\n",
    "model = tuner.run(\n",
    "    X_train=X_train, y_train=y_train, X_val=X_val, y_val=y_val,\n",
    "    hyperparam_space='hyperparam_space.yaml',\n",
    "    evaluation_function=partial(calc_tpr_at_fpr, target_fpr=TARGET_FPR),\n",
    "    n_trials=N_TRIALS,\n",
    ")"
   ]
  },
  {
   "cell_type": "code",
   "execution_count": 5,
   "metadata": {},
   "outputs": [
    {
     "name": "stdout",
     "output_type": "stream",
     "text": [
      "TPR = 0.46\n"
     ]
    }
   ],
   "source": [
    "y_score = model.predict_proba(X_test)[:, 1].squeeze()\n",
    "print(f'TPR = {calc_tpr_at_fpr(y_score=y_score, y_true=y_test, target_fpr=TARGET_FPR):.2f}')"
   ]
  }
 ],
 "metadata": {
  "kernelspec": {
   "display_name": "Python 3.10.5 64-bit",
   "language": "python",
   "name": "python3"
  },
  "language_info": {
   "codemirror_mode": {
    "name": "ipython",
    "version": 3
   },
   "file_extension": ".py",
   "mimetype": "text/x-python",
   "name": "python",
   "nbconvert_exporter": "python",
   "pygments_lexer": "ipython3",
   "version": "3.10.5"
  },
  "orig_nbformat": 4,
  "vscode": {
   "interpreter": {
    "hash": "9a3368dc1a9d53e1625bc039a9d3d861a5e24e3572bad0dea01556bdecd0fdbf"
   }
  }
 },
 "nbformat": 4,
 "nbformat_minor": 2
}